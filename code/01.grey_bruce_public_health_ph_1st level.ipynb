{
 "cells": [
  {
   "cell_type": "code",
   "execution_count": 1,
   "id": "d7d5e654",
   "metadata": {},
   "outputs": [],
   "source": [
    "#import necessary packages\n",
    "import platform\n",
    "import os\n",
    "import sys\n",
    "import time\n",
    "#for managing the data\n",
    "import pandas as pd\n",
    "\n",
    "#install !pip install webdriver-manager\n",
    "#webdrivers\n",
    "from selenium import webdriver\n",
    "from selenium.webdriver.chrome.service import Service as ChromeService\n",
    "from webdriver_manager.chrome import ChromeDriverManager\n",
    "from selenium.webdriver.common.by import By\n",
    "\n",
    "from bs4 import BeautifulSoup"
   ]
  },
  {
   "cell_type": "code",
   "execution_count": 2,
   "id": "3df70c99",
   "metadata": {},
   "outputs": [],
   "source": [
    "#data prefix for output data\n",
    "yearmonth = \"202404\""
   ]
  },
  {
   "cell_type": "code",
   "execution_count": 3,
   "id": "d6997359",
   "metadata": {},
   "outputs": [],
   "source": [
    "#open web driver\n",
    "driver = webdriver.Chrome(service=ChromeService(ChromeDriverManager().install()))"
   ]
  },
  {
   "cell_type": "code",
   "execution_count": 4,
   "id": "c02b01a0",
   "metadata": {},
   "outputs": [],
   "source": [
    "#url\n",
    "base_url_list = \\\n",
    "[\n",
    "    ['Child Care',\"https://gbph-portal.hedgerowsoftware.com/#/6f62eef5-6e2d-4046-bcd5-755d2287d990/disclosure\", ['Facility Name','Site Address','Last Inspection Date','Facility Type'] ],\n",
    "    ['Food Safety',\"https://gbph-portal.hedgerowsoftware.com/#/b67cdb25-e9dc-4a9c-beba-3fc076733c84/disclosure\", ['Facility Name','Site Address','Last Inspection Date']],\n",
    "    ['Person Service Setting',\"https://gbph-portal.hedgerowsoftware.com/#/e842aa6d-ee44-4e9e-b6af-1712da884a2e/disclosure\", ['Facility Name','Site Address','Last Inspection Date']],\n",
    "    ['Public Beach',\"https://gbph-portal.hedgerowsoftware.com/#/c0cc2867-a863-42a3-80bc-61462391044c/disclosure\",['Public Beach','Address','Date of Status Update']],\n",
    "    ['Recreation Camp',\"https://gbph-portal.hedgerowsoftware.com/#/e230a121-49a8-455b-a1b6-12a99f986cb8/disclosure\",['Facility Name','Site Address','Last Inspection Date']],\n",
    "    ['Recreational Water',\"https://gbph-portal.hedgerowsoftware.com/#/50bdcd35-4ad2-4f67-9d14-0647ea610f3d/disclosure\",['Facility Name','Site Address','Last Inspection Date']],\n",
    "    ['Small Drinking Water',\"https://gbph-portal.hedgerowsoftware.com/#/2b65a9c9-28d5-4a94-ab97-41298b7a54b8/disclosure\",['Facility Name','Site Address','Last Inspection Date']],\n",
    "    ['Tanning',\"https://gbph-portal.hedgerowsoftware.com/#/cab86cf0-184a-4874-a8be-5bc1ea9d5b35/disclosure\",['Facility Name','Site Address','Last Inspection Date']],                                                                                                             \n",
    "    ['Enforcements',\"https://gbph-portal.hedgerowsoftware.com/#/541999d0-2d8e-4e01-bb0c-9aa1d0addba1/disclosure\",['Facility Name','Site Address','Type', 'Legislation','Offense/Issue Date', 'Status','Resolved Date']],                                                                                                                       \n",
    "    ['Water Advisories',\"https://gbph-portal.hedgerowsoftware.com/#/ce3b1b55-85a0-4cfd-8d52-f830d398d1c4/disclosure\",['SDWS Name','Address','Advisory Type', 'Date Issued', 'Date Lifted']],                                                                                                                       \n",
    "]\n",
    "\n",
    "    "
   ]
  },
  {
   "cell_type": "code",
   "execution_count": 5,
   "id": "2627da7a",
   "metadata": {},
   "outputs": [
    {
     "data": {
      "text/plain": [
       "[['Child Care',\n",
       "  'https://gbph-portal.hedgerowsoftware.com/#/6f62eef5-6e2d-4046-bcd5-755d2287d990/disclosure',\n",
       "  ['Facility Name', 'Site Address', 'Last Inspection Date', 'Facility Type']],\n",
       " ['Food Safety',\n",
       "  'https://gbph-portal.hedgerowsoftware.com/#/b67cdb25-e9dc-4a9c-beba-3fc076733c84/disclosure',\n",
       "  ['Facility Name', 'Site Address', 'Last Inspection Date']],\n",
       " ['Person Service Setting',\n",
       "  'https://gbph-portal.hedgerowsoftware.com/#/e842aa6d-ee44-4e9e-b6af-1712da884a2e/disclosure',\n",
       "  ['Facility Name', 'Site Address', 'Last Inspection Date']],\n",
       " ['Public Beach',\n",
       "  'https://gbph-portal.hedgerowsoftware.com/#/c0cc2867-a863-42a3-80bc-61462391044c/disclosure',\n",
       "  ['Public Beach', 'Address', 'Date of Status Update']],\n",
       " ['Recreation Camp',\n",
       "  'https://gbph-portal.hedgerowsoftware.com/#/e230a121-49a8-455b-a1b6-12a99f986cb8/disclosure',\n",
       "  ['Facility Name', 'Site Address', 'Last Inspection Date']],\n",
       " ['Recreational Water',\n",
       "  'https://gbph-portal.hedgerowsoftware.com/#/50bdcd35-4ad2-4f67-9d14-0647ea610f3d/disclosure',\n",
       "  ['Facility Name', 'Site Address', 'Last Inspection Date']],\n",
       " ['Small Drinking Water',\n",
       "  'https://gbph-portal.hedgerowsoftware.com/#/2b65a9c9-28d5-4a94-ab97-41298b7a54b8/disclosure',\n",
       "  ['Facility Name', 'Site Address', 'Last Inspection Date']],\n",
       " ['Tanning',\n",
       "  'https://gbph-portal.hedgerowsoftware.com/#/cab86cf0-184a-4874-a8be-5bc1ea9d5b35/disclosure',\n",
       "  ['Facility Name', 'Site Address', 'Last Inspection Date']],\n",
       " ['Enforcements',\n",
       "  'https://gbph-portal.hedgerowsoftware.com/#/541999d0-2d8e-4e01-bb0c-9aa1d0addba1/disclosure',\n",
       "  ['Facility Name',\n",
       "   'Site Address',\n",
       "   'Type',\n",
       "   'Legislation',\n",
       "   'Offense/Issue Date',\n",
       "   'Status',\n",
       "   'Resolved Date']],\n",
       " ['Water Advisories',\n",
       "  'https://gbph-portal.hedgerowsoftware.com/#/ce3b1b55-85a0-4cfd-8d52-f830d398d1c4/disclosure',\n",
       "  ['SDWS Name', 'Address', 'Advisory Type', 'Date Issued', 'Date Lifted']]]"
      ]
     },
     "execution_count": 5,
     "metadata": {},
     "output_type": "execute_result"
    }
   ],
   "source": [
    "base_url_list"
   ]
  },
  {
   "cell_type": "code",
   "execution_count": 6,
   "id": "1247f93f",
   "metadata": {
    "scrolled": false
   },
   "outputs": [
    {
     "name": "stderr",
     "output_type": "stream",
     "text": [
      "/var/folders/4k/pwnwdlj13ng6pbf991lxty440000gn/T/ipykernel_7688/4001557055.py:42: FutureWarning: Passing literal html to 'read_html' is deprecated and will be removed in a future version. To read from a literal string, wrap it in a 'StringIO' object.\n",
      "  df = pd.read_html(driver.page_source)\n"
     ]
    },
    {
     "ename": "ValueError",
     "evalue": "No tables found",
     "output_type": "error",
     "traceback": [
      "\u001b[0;31m---------------------------------------------------------------------------\u001b[0m",
      "\u001b[0;31mValueError\u001b[0m                                Traceback (most recent call last)",
      "Cell \u001b[0;32mIn[6], line 42\u001b[0m\n\u001b[1;32m     39\u001b[0m     data_url_list\u001b[38;5;241m.\u001b[39mappend( row\u001b[38;5;241m.\u001b[39mget_attribute(\u001b[38;5;124m\"\u001b[39m\u001b[38;5;124monclick\u001b[39m\u001b[38;5;124m\"\u001b[39m) )\n\u001b[1;32m     41\u001b[0m \u001b[38;5;66;03m#convert html table into dataframe\u001b[39;00m\n\u001b[0;32m---> 42\u001b[0m df \u001b[38;5;241m=\u001b[39m pd\u001b[38;5;241m.\u001b[39mread_html(driver\u001b[38;5;241m.\u001b[39mpage_source)\n\u001b[1;32m     43\u001b[0m df \u001b[38;5;241m=\u001b[39m df[\u001b[38;5;241m0\u001b[39m]\n\u001b[1;32m     46\u001b[0m \u001b[38;5;66;03m#rename columns for clean up\u001b[39;00m\n",
      "File \u001b[0;32m/Users/anaconda3/lib/python3.11/site-packages/pandas/io/html.py:1245\u001b[0m, in \u001b[0;36mread_html\u001b[0;34m(io, match, flavor, header, index_col, skiprows, attrs, parse_dates, thousands, encoding, decimal, converters, na_values, keep_default_na, displayed_only, extract_links, dtype_backend, storage_options)\u001b[0m\n\u001b[1;32m   1229\u001b[0m \u001b[38;5;28;01mif\u001b[39;00m \u001b[38;5;28misinstance\u001b[39m(io, \u001b[38;5;28mstr\u001b[39m) \u001b[38;5;129;01mand\u001b[39;00m \u001b[38;5;129;01mnot\u001b[39;00m \u001b[38;5;28many\u001b[39m(\n\u001b[1;32m   1230\u001b[0m     [\n\u001b[1;32m   1231\u001b[0m         is_file_like(io),\n\u001b[0;32m   (...)\u001b[0m\n\u001b[1;32m   1235\u001b[0m     ]\n\u001b[1;32m   1236\u001b[0m ):\n\u001b[1;32m   1237\u001b[0m     warnings\u001b[38;5;241m.\u001b[39mwarn(\n\u001b[1;32m   1238\u001b[0m         \u001b[38;5;124m\"\u001b[39m\u001b[38;5;124mPassing literal html to \u001b[39m\u001b[38;5;124m'\u001b[39m\u001b[38;5;124mread_html\u001b[39m\u001b[38;5;124m'\u001b[39m\u001b[38;5;124m is deprecated and \u001b[39m\u001b[38;5;124m\"\u001b[39m\n\u001b[1;32m   1239\u001b[0m         \u001b[38;5;124m\"\u001b[39m\u001b[38;5;124mwill be removed in a future version. To read from a \u001b[39m\u001b[38;5;124m\"\u001b[39m\n\u001b[0;32m   (...)\u001b[0m\n\u001b[1;32m   1242\u001b[0m         stacklevel\u001b[38;5;241m=\u001b[39mfind_stack_level(),\n\u001b[1;32m   1243\u001b[0m     )\n\u001b[0;32m-> 1245\u001b[0m \u001b[38;5;28;01mreturn\u001b[39;00m _parse(\n\u001b[1;32m   1246\u001b[0m     flavor\u001b[38;5;241m=\u001b[39mflavor,\n\u001b[1;32m   1247\u001b[0m     io\u001b[38;5;241m=\u001b[39mio,\n\u001b[1;32m   1248\u001b[0m     match\u001b[38;5;241m=\u001b[39mmatch,\n\u001b[1;32m   1249\u001b[0m     header\u001b[38;5;241m=\u001b[39mheader,\n\u001b[1;32m   1250\u001b[0m     index_col\u001b[38;5;241m=\u001b[39mindex_col,\n\u001b[1;32m   1251\u001b[0m     skiprows\u001b[38;5;241m=\u001b[39mskiprows,\n\u001b[1;32m   1252\u001b[0m     parse_dates\u001b[38;5;241m=\u001b[39mparse_dates,\n\u001b[1;32m   1253\u001b[0m     thousands\u001b[38;5;241m=\u001b[39mthousands,\n\u001b[1;32m   1254\u001b[0m     attrs\u001b[38;5;241m=\u001b[39mattrs,\n\u001b[1;32m   1255\u001b[0m     encoding\u001b[38;5;241m=\u001b[39mencoding,\n\u001b[1;32m   1256\u001b[0m     decimal\u001b[38;5;241m=\u001b[39mdecimal,\n\u001b[1;32m   1257\u001b[0m     converters\u001b[38;5;241m=\u001b[39mconverters,\n\u001b[1;32m   1258\u001b[0m     na_values\u001b[38;5;241m=\u001b[39mna_values,\n\u001b[1;32m   1259\u001b[0m     keep_default_na\u001b[38;5;241m=\u001b[39mkeep_default_na,\n\u001b[1;32m   1260\u001b[0m     displayed_only\u001b[38;5;241m=\u001b[39mdisplayed_only,\n\u001b[1;32m   1261\u001b[0m     extract_links\u001b[38;5;241m=\u001b[39mextract_links,\n\u001b[1;32m   1262\u001b[0m     dtype_backend\u001b[38;5;241m=\u001b[39mdtype_backend,\n\u001b[1;32m   1263\u001b[0m     storage_options\u001b[38;5;241m=\u001b[39mstorage_options,\n\u001b[1;32m   1264\u001b[0m )\n",
      "File \u001b[0;32m/Users/anaconda3/lib/python3.11/site-packages/pandas/io/html.py:1008\u001b[0m, in \u001b[0;36m_parse\u001b[0;34m(flavor, io, match, attrs, encoding, displayed_only, extract_links, storage_options, **kwargs)\u001b[0m\n\u001b[1;32m   1006\u001b[0m \u001b[38;5;28;01melse\u001b[39;00m:\n\u001b[1;32m   1007\u001b[0m     \u001b[38;5;28;01massert\u001b[39;00m retained \u001b[38;5;129;01mis\u001b[39;00m \u001b[38;5;129;01mnot\u001b[39;00m \u001b[38;5;28;01mNone\u001b[39;00m  \u001b[38;5;66;03m# for mypy\u001b[39;00m\n\u001b[0;32m-> 1008\u001b[0m     \u001b[38;5;28;01mraise\u001b[39;00m retained\n\u001b[1;32m   1010\u001b[0m ret \u001b[38;5;241m=\u001b[39m []\n\u001b[1;32m   1011\u001b[0m \u001b[38;5;28;01mfor\u001b[39;00m table \u001b[38;5;129;01min\u001b[39;00m tables:\n",
      "File \u001b[0;32m/Users/anaconda3/lib/python3.11/site-packages/pandas/io/html.py:988\u001b[0m, in \u001b[0;36m_parse\u001b[0;34m(flavor, io, match, attrs, encoding, displayed_only, extract_links, storage_options, **kwargs)\u001b[0m\n\u001b[1;32m    977\u001b[0m p \u001b[38;5;241m=\u001b[39m parser(\n\u001b[1;32m    978\u001b[0m     io,\n\u001b[1;32m    979\u001b[0m     compiled_match,\n\u001b[0;32m   (...)\u001b[0m\n\u001b[1;32m    984\u001b[0m     storage_options,\n\u001b[1;32m    985\u001b[0m )\n\u001b[1;32m    987\u001b[0m \u001b[38;5;28;01mtry\u001b[39;00m:\n\u001b[0;32m--> 988\u001b[0m     tables \u001b[38;5;241m=\u001b[39m p\u001b[38;5;241m.\u001b[39mparse_tables()\n\u001b[1;32m    989\u001b[0m \u001b[38;5;28;01mexcept\u001b[39;00m \u001b[38;5;167;01mValueError\u001b[39;00m \u001b[38;5;28;01mas\u001b[39;00m caught:\n\u001b[1;32m    990\u001b[0m     \u001b[38;5;66;03m# if `io` is an io-like object, check if it's seekable\u001b[39;00m\n\u001b[1;32m    991\u001b[0m     \u001b[38;5;66;03m# and try to rewind it before trying the next parser\u001b[39;00m\n\u001b[1;32m    992\u001b[0m     \u001b[38;5;28;01mif\u001b[39;00m \u001b[38;5;28mhasattr\u001b[39m(io, \u001b[38;5;124m\"\u001b[39m\u001b[38;5;124mseekable\u001b[39m\u001b[38;5;124m\"\u001b[39m) \u001b[38;5;129;01mand\u001b[39;00m io\u001b[38;5;241m.\u001b[39mseekable():\n",
      "File \u001b[0;32m/Users/anaconda3/lib/python3.11/site-packages/pandas/io/html.py:248\u001b[0m, in \u001b[0;36m_HtmlFrameParser.parse_tables\u001b[0;34m(self)\u001b[0m\n\u001b[1;32m    240\u001b[0m \u001b[38;5;28;01mdef\u001b[39;00m \u001b[38;5;21mparse_tables\u001b[39m(\u001b[38;5;28mself\u001b[39m):\n\u001b[1;32m    241\u001b[0m \u001b[38;5;250m    \u001b[39m\u001b[38;5;124;03m\"\"\"\u001b[39;00m\n\u001b[1;32m    242\u001b[0m \u001b[38;5;124;03m    Parse and return all tables from the DOM.\u001b[39;00m\n\u001b[1;32m    243\u001b[0m \n\u001b[0;32m   (...)\u001b[0m\n\u001b[1;32m    246\u001b[0m \u001b[38;5;124;03m    list of parsed (header, body, footer) tuples from tables.\u001b[39;00m\n\u001b[1;32m    247\u001b[0m \u001b[38;5;124;03m    \"\"\"\u001b[39;00m\n\u001b[0;32m--> 248\u001b[0m     tables \u001b[38;5;241m=\u001b[39m \u001b[38;5;28mself\u001b[39m\u001b[38;5;241m.\u001b[39m_parse_tables(\u001b[38;5;28mself\u001b[39m\u001b[38;5;241m.\u001b[39m_build_doc(), \u001b[38;5;28mself\u001b[39m\u001b[38;5;241m.\u001b[39mmatch, \u001b[38;5;28mself\u001b[39m\u001b[38;5;241m.\u001b[39mattrs)\n\u001b[1;32m    249\u001b[0m     \u001b[38;5;28;01mreturn\u001b[39;00m (\u001b[38;5;28mself\u001b[39m\u001b[38;5;241m.\u001b[39m_parse_thead_tbody_tfoot(table) \u001b[38;5;28;01mfor\u001b[39;00m table \u001b[38;5;129;01min\u001b[39;00m tables)\n",
      "File \u001b[0;32m/Users/anaconda3/lib/python3.11/site-packages/pandas/io/html.py:603\u001b[0m, in \u001b[0;36m_BeautifulSoupHtml5LibFrameParser._parse_tables\u001b[0;34m(self, document, match, attrs)\u001b[0m\n\u001b[1;32m    601\u001b[0m tables \u001b[38;5;241m=\u001b[39m document\u001b[38;5;241m.\u001b[39mfind_all(element_name, attrs\u001b[38;5;241m=\u001b[39mattrs)\n\u001b[1;32m    602\u001b[0m \u001b[38;5;28;01mif\u001b[39;00m \u001b[38;5;129;01mnot\u001b[39;00m tables:\n\u001b[0;32m--> 603\u001b[0m     \u001b[38;5;28;01mraise\u001b[39;00m \u001b[38;5;167;01mValueError\u001b[39;00m(\u001b[38;5;124m\"\u001b[39m\u001b[38;5;124mNo tables found\u001b[39m\u001b[38;5;124m\"\u001b[39m)\n\u001b[1;32m    605\u001b[0m result \u001b[38;5;241m=\u001b[39m []\n\u001b[1;32m    606\u001b[0m unique_tables \u001b[38;5;241m=\u001b[39m \u001b[38;5;28mset\u001b[39m()\n",
      "\u001b[0;31mValueError\u001b[0m: No tables found"
     ]
    }
   ],
   "source": [
    "#place holder for final dataframe list\n",
    "df_list = []\n",
    "\n",
    "for u in base_url_list:\n",
    "    category = u[0]\n",
    "    base_url = u[1]\n",
    "    columns  = u[2]\n",
    "\n",
    "    #load main landing page\n",
    "    driver.get(base_url)\n",
    "    \n",
    "    try:\n",
    "        #find disclaimer button\n",
    "        disclamer_btn = driver.find_element(by='name', value=\"AcceptDisclaimerButton\")\n",
    "\n",
    "        #click the disclaimer button to move to the data page\n",
    "        disclamer_btn.click()\n",
    "    except:\n",
    "        pass\n",
    "    \n",
    "    # We will loop through until there's no next page button on the webpage\n",
    "    #find next page button\n",
    "    last_page = False\n",
    "\n",
    "    while last_page==False:\n",
    "        try:\n",
    "            next_btn = driver.find_element(By.CLASS_NAME, value=\"next-page-link\")\n",
    "        except:\n",
    "            last_page = True\n",
    "\n",
    "\n",
    "        #place holder for extracted data\n",
    "        data_url_list = []\n",
    "\n",
    "        #locate each table rows\n",
    "        data_rows = driver.find_elements(By.CLASS_NAME, value=\"hovereffect\")\n",
    "\n",
    "        for row in data_rows:\n",
    "            data_url_list.append( row.get_attribute(\"onclick\") )\n",
    "\n",
    "        #convert html table into dataframe\n",
    "        df = pd.read_html(driver.page_source)\n",
    "        df = df[0]\n",
    "        \n",
    "\n",
    "        #rename columns for clean up\n",
    "        df.columns = columns\n",
    "        \n",
    "        #append url column and category column\n",
    "        df['url'] = data_url_list\n",
    "        df['category'] = category\n",
    "\n",
    "        #put aside resulting table\n",
    "        df_list.append(df)\n",
    "\n",
    "        if last_page==True:\n",
    "            break\n",
    "        #move to the next page\n",
    "        next_btn.click()"
   ]
  },
  {
   "cell_type": "code",
   "execution_count": null,
   "id": "ceaeaffe",
   "metadata": {},
   "outputs": [],
   "source": [
    "final_df = pd.concat(df_list)"
   ]
  },
  {
   "cell_type": "code",
   "execution_count": null,
   "id": "65d2a012",
   "metadata": {},
   "outputs": [],
   "source": [
    "final_df"
   ]
  },
  {
   "cell_type": "code",
   "execution_count": null,
   "id": "f1bce748",
   "metadata": {},
   "outputs": [],
   "source": [
    "#serialize the dataset\n",
    "final_df.to_csv( \"../data/{}_1st_table.csv\".format(yearmonth) )"
   ]
  },
  {
   "cell_type": "code",
   "execution_count": null,
   "id": "e568037c",
   "metadata": {},
   "outputs": [],
   "source": [
    "#close webdriver\n",
    "try:\n",
    "    driver.close()\n",
    "except:\n",
    "    pass"
   ]
  },
  {
   "cell_type": "code",
   "execution_count": null,
   "id": "d7df1bde",
   "metadata": {},
   "outputs": [],
   "source": []
  },
  {
   "cell_type": "code",
   "execution_count": null,
   "id": "9280a52d",
   "metadata": {},
   "outputs": [],
   "source": []
  },
  {
   "cell_type": "code",
   "execution_count": null,
   "id": "4053b95a",
   "metadata": {},
   "outputs": [],
   "source": []
  }
 ],
 "metadata": {
  "kernelspec": {
   "display_name": "Python 3 (ipykernel)",
   "language": "python",
   "name": "python3"
  },
  "language_info": {
   "codemirror_mode": {
    "name": "ipython",
    "version": 3
   },
   "file_extension": ".py",
   "mimetype": "text/x-python",
   "name": "python",
   "nbconvert_exporter": "python",
   "pygments_lexer": "ipython3",
   "version": "3.11.7"
  }
 },
 "nbformat": 4,
 "nbformat_minor": 5
}
